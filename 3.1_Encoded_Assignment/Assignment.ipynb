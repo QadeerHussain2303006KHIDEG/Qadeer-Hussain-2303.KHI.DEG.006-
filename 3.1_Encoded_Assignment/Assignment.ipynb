{
 "cells": [
  {
   "cell_type": "code",
   "execution_count": 8,
   "id": "523efdc4-1c16-4a49-b584-4c374e8a7aad",
   "metadata": {
    "tags": []
   },
   "outputs": [
    {
     "name": "stdout",
     "output_type": "stream",
     "text": [
      "Original data:\n",
      "                                           Name     Sex Embarked\n",
      "0                              Kelly, Mr. James    male        Q\n",
      "1              Wilkes, Mrs. James (Ellen Needs)  female        S\n",
      "2                     Myles, Mr. Thomas Francis    male        Q\n",
      "3                              Wirz, Mr. Albert    male        S\n",
      "4  Hirvonen, Mrs. Alexander (Helga E Lindqvist)  female        S\n",
      "\n",
      "Encoded data:\n",
      "                                           Name  Sex  Embarked\n",
      "0                              Kelly, Mr. James    0         0\n",
      "1              Wilkes, Mrs. James (Ellen Needs)    1         1\n",
      "2                     Myles, Mr. Thomas Francis    0         0\n",
      "3                              Wirz, Mr. Albert    0         1\n",
      "4  Hirvonen, Mrs. Alexander (Helga E Lindqvist)    1         1\n"
     ]
    }
   ],
   "source": [
    "import pandas as pd\n",
    "import numpy as np\n",
    "\n",
    "# Load dataset\n",
    "titanic = pd.read_csv('titanic.csv')\n",
    "\n",
    "# Select the categorical features\n",
    "categorical_features = ['Sex', 'Embarked']\n",
    "printed_features =['Name','Sex', 'Embarked']\n",
    "\n",
    "\n",
    "def encoder_function(df, columns):\n",
    "    encoded_df = df.copy()  \n",
    "    for column in columns:  \n",
    "        unique_values = df[column].unique()  \n",
    "        mapping = {}\n",
    "        for i, value in enumerate(unique_values):\n",
    "            mapping[value] = i        \n",
    "        encoded_df[column] = df[column].map(mapping)  \n",
    "    return encoded_df\n",
    "\n",
    "\n",
    "encoded_titanic = encoder_function(titanic, categorical_features)\n",
    "\n",
    "\n",
    "print(\"Original data:\")\n",
    "print(titanic[printed_features].head())\n",
    "print(\"\\nEncoded data:\")\n",
    "print(encoded_titanic[printed_features].head())\n"
   ]
  },
  {
   "cell_type": "code",
   "execution_count": null,
   "id": "5016cb11-a302-4410-86cf-183721f29997",
   "metadata": {},
   "outputs": [],
   "source": []
  }
 ],
 "metadata": {
  "kernelspec": {
   "display_name": "Python 3 (ipykernel)",
   "language": "python",
   "name": "python3"
  },
  "language_info": {
   "codemirror_mode": {
    "name": "ipython",
    "version": 3
   },
   "file_extension": ".py",
   "mimetype": "text/x-python",
   "name": "python",
   "nbconvert_exporter": "python",
   "pygments_lexer": "ipython3",
   "version": "3.10.6"
  }
 },
 "nbformat": 4,
 "nbformat_minor": 5
}
