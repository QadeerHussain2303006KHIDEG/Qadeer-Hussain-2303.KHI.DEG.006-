{
 "cells": [
  {
   "cell_type": "code",
   "execution_count": 3,
   "id": "1ef3642d-3bba-4563-85d5-725b237f7b61",
   "metadata": {
    "tags": []
   },
   "outputs": [
    {
     "name": "stdout",
     "output_type": "stream",
     "text": [
      "Defaulting to user installation because normal site-packages is not writeable\n",
      "Collecting numpy\n",
      "  Using cached numpy-1.24.2-cp310-cp310-manylinux_2_17_x86_64.manylinux2014_x86_64.whl (17.3 MB)\n",
      "Installing collected packages: numpy\n",
      "Successfully installed numpy-1.24.2\n"
     ]
    }
   ],
   "source": [
    "!pip install numpy\n"
   ]
  },
  {
   "cell_type": "code",
   "execution_count": 1,
   "id": "f8d0105c-a825-4462-9098-fcb0e12bd457",
   "metadata": {
    "tags": []
   },
   "outputs": [],
   "source": [
    "import numpy as np"
   ]
  },
  {
   "cell_type": "code",
   "execution_count": 24,
   "id": "046ac6a7-2beb-463e-b300-7f1d9018537d",
   "metadata": {
    "tags": []
   },
   "outputs": [
    {
     "name": "stdout",
     "output_type": "stream",
     "text": [
      "[[68 34 64 30]\n",
      " [88 79 31 38]\n",
      " [91 36 42 16]\n",
      " [35 71 89 67]\n",
      " [30 28 60 52]\n",
      " [23  8 47 17]]\n"
     ]
    }
   ],
   "source": [
    "random_array = np.random.randint(low=1, high=100, size=(6, 4))\n",
    "\n",
    "print(random_array)"
   ]
  },
  {
   "cell_type": "code",
   "execution_count": 28,
   "id": "5aa41d46-ddc2-490f-b2f1-a55480ed40a9",
   "metadata": {
    "tags": []
   },
   "outputs": [
    {
     "name": "stdout",
     "output_type": "stream",
     "text": [
      "[[ 68  34  64  30]\n",
      " [ 88  79  31  38]\n",
      " [ 91  36  42  16]\n",
      " [ 35  71  89  67]\n",
      " [159  70 106  46]\n",
      " [123 150 120 105]]\n"
     ]
    }
   ],
   "source": [
    "random_array[0:3:2]\n",
    "row5=sum(random_array[0:3:2])\n",
    "random_array[1:5:2]\n",
    "row6=sum(random_array[1:5:2])\n",
    "random_array[4]=row5\n",
    "random_array[5]=row6\n",
    "print(random_array)"
   ]
  }
 ],
 "metadata": {
  "kernelspec": {
   "display_name": "Python 3 (ipykernel)",
   "language": "python",
   "name": "python3"
  },
  "language_info": {
   "codemirror_mode": {
    "name": "ipython",
    "version": 3
   },
   "file_extension": ".py",
   "mimetype": "text/x-python",
   "name": "python",
   "nbconvert_exporter": "python",
   "pygments_lexer": "ipython3",
   "version": "3.10.6"
  }
 },
 "nbformat": 4,
 "nbformat_minor": 5
}
