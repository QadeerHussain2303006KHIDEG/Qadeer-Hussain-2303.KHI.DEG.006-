{
 "cells": [
  {
   "cell_type": "code",
   "execution_count": 1,
   "id": "98007f5d-4638-4e8e-b8f6-fc88c7c10e53",
   "metadata": {},
   "outputs": [
    {
     "name": "stdout",
     "output_type": "stream",
     "text": [
      "/home/muhammadkhan/Desktop/data_engineering_bootcamp_2303/tasks/3_machine_learning_essentials/day_4_mlops/mlops-student/bin/python\n"
     ]
    }
   ],
   "source": [
    "!python -c \"import sys; print(sys.executable)\""
   ]
  },
  {
   "cell_type": "markdown",
   "id": "30fc0892-2f9b-411a-8859-80ee9a8501d9",
   "metadata": {},
   "source": [
    "# MLFlow lab"
   ]
  },
  {
   "cell_type": "code",
   "execution_count": 2,
   "id": "927f1855-de23-43cc-ad1c-ee2a0dd03ccd",
   "metadata": {
    "tags": []
   },
   "outputs": [],
   "source": [
    "import pandas as pd"
   ]
  },
  {
   "cell_type": "code",
   "execution_count": 3,
   "id": "8dd234da-9558-48a2-ac9e-b558660da1a6",
   "metadata": {
    "tags": []
   },
   "outputs": [
    {
     "data": {
      "text/plain": [
       "'2.0.1'"
      ]
     },
     "execution_count": 3,
     "metadata": {},
     "output_type": "execute_result"
    }
   ],
   "source": [
    "pd.__version__"
   ]
  },
  {
   "cell_type": "markdown",
   "id": "87a0110c-4c87-40c3-af3b-75072bb6f210",
   "metadata": {
    "tags": []
   },
   "source": [
    "### Setting up MLFlow tracking server\n",
    "\n",
    "We also specify artifact root and backend store URI. This makes it possible to store models.\n",
    "\n",
    "After running this command tracking server will be accessible at `localhost:5000`"
   ]
  },
  {
   "cell_type": "code",
   "execution_count": 4,
   "id": "b915f9e2-3f6e-46f4-8308-98a5330d400c",
   "metadata": {
    "tags": []
   },
   "outputs": [],
   "source": [
    "%%bash --bg\n",
    "\n",
    "mlflow server --host 0.0.0.0 \\\n",
    "    --port 5000 \\\n",
    "    --backend-store-uri sqlite:///mlflow.db \\\n",
    "    --default-artifact-root ./mlruns"
   ]
  },
  {
   "cell_type": "markdown",
   "id": "cd080463-e715-4627-92ff-66c929c29e47",
   "metadata": {},
   "source": [
    "### MLProject file\n",
    "\n",
    "This file is used to configure MLFlow steps.\n",
    "\n",
    "Using `MLproject` we can define our project's pipeline steps, called *entry points*.\n",
    "\n",
    "Each entry point in this file corresponds to a shell command.\n",
    "\n",
    "Entry points can be ran using\n",
    "\n",
    "```\n",
    "mlflow run -e <ENTRY_POINT>\n",
    "```\n",
    "\n",
    "By default `mlflow run` runs `main` entrypoint."
   ]
  },
  {
   "cell_type": "code",
   "execution_count": 5,
   "id": "1999ca3a-1538-43a1-9a26-552924809051",
   "metadata": {
    "tags": []
   },
   "outputs": [
    {
     "name": "stdout",
     "output_type": "stream",
     "text": [
      "name: basic_mlflow\n",
      "\n",
      "# this file is used to configure Python package dependencies.\n",
      "# it uses Anaconda, but it can be also alternatively configured to use pip.\n",
      "conda_env: conda.yaml\n",
      "\n",
      "# entry points can be ran using `mlflow run <project_name> -e <entry_point_name>\n",
      "entry_points:\n",
      "\n",
      "  main:\n",
      "    # parameters is a key-value collection.\n",
      "    parameters:\n",
      "      file_name:\n",
      "        type: str\n",
      "        default: \"wine_dataset.csv\"\n",
      "      max_k:\n",
      "        type: int\n",
      "        default: 10\n",
      "    command: \"python train2.py {file_name}\"\n"
     ]
    }
   ],
   "source": [
    "%cat MLproject"
   ]
  },
  {
   "cell_type": "markdown",
   "id": "f1ad96ca-ea8a-4ed7-a989-b0ef65b3337d",
   "metadata": {},
   "source": [
    "First we need to download data. We will use weather data from previous machine learning tutorial."
   ]
  },
  {
   "cell_type": "code",
   "execution_count": 6,
   "id": "1bebda26-7710-4658-821f-6d471379f2ae",
   "metadata": {
    "tags": []
   },
   "outputs": [],
   "source": [
    "# %%bash\n",
    "# source mlflow_env_vars.sh\n",
    "# mlflow run .  -e download_data"
   ]
  },
  {
   "cell_type": "markdown",
   "id": "0a7fd2b5-536f-46f5-88d6-1e2693c473f8",
   "metadata": {},
   "source": [
    "## Training\n",
    "\n",
    "Now we can train models. See `train.py`.\n",
    "It contains code from supervised machine learning tutorial; we added tracking metrics and model.\n",
    "\n",
    "We will train kNN models for $k \\in \\{1, 2, ..., 10\\}$ using *temperature* and *casual* features.\n",
    "\n",
    "After running this command you can go to `localhost:5000` and see the trained models."
   ]
  },
  {
   "cell_type": "code",
   "execution_count": 7,
   "id": "728ad762-eae9-4448-821e-542e3a584c02",
   "metadata": {},
   "outputs": [],
   "source": [
    "import sklearn"
   ]
  },
  {
   "cell_type": "code",
   "execution_count": 8,
   "id": "ac5438a4-abe7-4d62-93e2-7cb45129b060",
   "metadata": {},
   "outputs": [
    {
     "data": {
      "text/plain": [
       "'1.2.2'"
      ]
     },
     "execution_count": 8,
     "metadata": {},
     "output_type": "execute_result"
    }
   ],
   "source": [
    "sklearn.__version__"
   ]
  },
  {
   "cell_type": "code",
   "execution_count": 9,
   "id": "d0c428dd-75c9-4968-bcce-4e43960ef309",
   "metadata": {},
   "outputs": [],
   "source": [
    "%%bash --bg\n",
    "source mlflow_env_vars.sh\n",
    "mlflow run . "
   ]
  },
  {
   "cell_type": "markdown",
   "id": "c60189ad-f9df-4fee-b866-7fd2fc326336",
   "metadata": {},
   "source": [
    "## Inspecting stored models\n",
    "\n",
    "The trained models are stored in `mlruns/0`.\n",
    "\n",
    "These directories contain artifacts and config that is needed to serve them."
   ]
  },
  {
   "cell_type": "code",
   "execution_count": 10,
   "id": "e839cd69-ab87-4810-8d8f-458866a1ff8d",
   "metadata": {},
   "outputs": [
    {
     "name": "stdout",
     "output_type": "stream",
     "text": [
      "artifact_path: svm_model\n",
      "flavors:\n",
      "  python_function:\n",
      "    env:\n",
      "      conda: conda.yaml\n",
      "      virtualenv: python_env.yaml\n",
      "    loader_module: mlflow.sklearn\n",
      "    model_path: model.pkl\n",
      "    predict_fn: predict\n",
      "    python_version: 3.10.6\n",
      "  sklearn:\n",
      "    code: null\n",
      "    pickled_model: model.pkl\n",
      "    serialization_format: cloudpickle\n",
      "    sklearn_version: 1.2.2\n",
      "mlflow_version: 2.3.1\n",
      "model_uuid: 868c022d84a2449e98abf9852ffc027c\n",
      "run_id: 81a7d32431e443fdac014f42eb2b376d\n",
      "utc_time_created: '2023-05-08 05:19:39.029705'\n"
     ]
    }
   ],
   "source": [
    "%%bash\n",
    "last_model_path=$(ls -tr mlruns/0/ | tail -1)\n",
    "cat mlruns/0/$last_model_path/artifacts/svm_model/MLmodel"
   ]
  },
  {
   "cell_type": "code",
   "execution_count": 11,
   "id": "ae7a3b10-e73e-458e-a86d-73c5353af294",
   "metadata": {},
   "outputs": [],
   "source": [
    "import mlflow"
   ]
  },
  {
   "cell_type": "code",
   "execution_count": 12,
   "id": "b492d50f-9d12-4c97-a697-bacd34eba1b8",
   "metadata": {},
   "outputs": [
    {
     "data": {
      "text/plain": [
       "'2.3.1'"
      ]
     },
     "execution_count": 12,
     "metadata": {},
     "output_type": "execute_result"
    }
   ],
   "source": [
    "mlflow.__version__"
   ]
  },
  {
   "cell_type": "markdown",
   "id": "4a4654c1-33c9-49d1-bfac-d8090dec79f1",
   "metadata": {},
   "source": [
    "## Serving model\n",
    "\n",
    "Now that we trained our models we can go to *Models* page on MLFLow UI (http://localhost:5000/#/models).\n",
    "\n",
    "Click *sklearn_knn* on this page, choose a model and move it to *Production* stage.\n",
    "\n",
    "The following cell will serve the model at localhost on port 5001."
   ]
  },
  {
   "cell_type": "code",
   "execution_count": 13,
   "id": "ef644f7b-ad7e-4a3b-8b4e-df6a20e85290",
   "metadata": {},
   "outputs": [],
   "source": [
    "%%bash --bg\n",
    "source mlflow_env_vars.sh\n",
    "mlflow --version\n",
    "mlflow models serve -m models:/sklearn_svm/Production -p 5001 --env-manager=conda \n"
   ]
  },
  {
   "cell_type": "markdown",
   "id": "7f81d979-a94c-4307-a5f6-cd95a5c4eeff",
   "metadata": {},
   "source": [
    "# Prediction\n",
    "\n",
    "We'll load data that we can feed into prediction server."
   ]
  },
  {
   "cell_type": "code",
   "execution_count": null,
   "id": "d684121e-1ce1-433c-9349-9ef539e3f36b",
   "metadata": {},
   "outputs": [],
   "source": []
  },
  {
   "cell_type": "markdown",
   "id": "2516ceaf-45b5-4d67-a63d-048cc8086d63",
   "metadata": {},
   "source": [
    "Let's predict for first winter day and first non-winter day (first rows of previous two dataframes)\n",
    "\n",
    "**warning: this might fail at first because the prediction server didn't spin up; in this case wait a minute**"
   ]
  },
  {
   "cell_type": "code",
   "execution_count": 14,
   "id": "650174ad-bb37-4fe3-b450-b8ba7889bfe6",
   "metadata": {},
   "outputs": [],
   "source": [
    "# %%bash\n",
    "# data='[[1.69629634, -0.3559704, 1.204063, 0.12662813, 1.37800506, 0.81776615, 1.0941454, -0.28675063, 0.6769204, 0.54078152, 0.47263301, 0.04467224]]'\n",
    "# echo $data\n",
    "\n",
    "# curl -d \"{\\\"inputs\\\": $data}\" -H 'Content-Type: application/json' 127.0.0.1:5001/invocations"
   ]
  },
  {
   "cell_type": "code",
   "execution_count": 15,
   "id": "61bf3366-18cc-4bcd-a927-f7211d9e3b7c",
   "metadata": {},
   "outputs": [],
   "source": [
    "# %%bash\n",
    "# data='[[1.69629634, -0.3559704, 1.204063, 0.12662813, 1.37800506, 0.81776615, 1.0941454, -0.28675063, 0.6769204, 0.54078152, 0.47263301, 0.04467224]]'\n",
    "# echo $data\n",
    "\n",
    "# curl -d \"{\\\"instances\\\": $data}\" -H 'Content-Type: application/json' 127.0.0.1:5001/invocations"
   ]
  },
  {
   "cell_type": "code",
   "execution_count": 16,
   "id": "e8d788af-af76-4616-9377-4accb1f29696",
   "metadata": {},
   "outputs": [],
   "source": [
    "# %%bash\n",
    "# data='[[1.69629634, -0.3559704, 1.204063, 0.12662813, 1.37800506, 0.81776615, 1.0941454, -0.28675063, 0.6769204, 0.54078152, 0.47263301, 0.04467224]]'\n",
    "# columns='[\"temp\",\"casual\"]'\n",
    "# echo $data\n",
    "\n",
    "# curl -d \"{\\\"dataframe_split\\\":{\\\"columns\\\":[\\\"temp\\\",\\\"casual\\\"],\\\"data\\\": $data}}\" -H 'Content-Type: application/json' 127.0.0.1:5001/invocations"
   ]
  },
  {
   "cell_type": "code",
   "execution_count": 17,
   "id": "260df3e9-8527-4444-80c6-a8a722c6b2d0",
   "metadata": {
    "tags": []
   },
   "outputs": [],
   "source": [
    "from sklearn import datasets"
   ]
  },
  {
   "cell_type": "code",
   "execution_count": 18,
   "id": "68db988c-08d8-4f1f-acf2-be5024edcc3a",
   "metadata": {
    "tags": []
   },
   "outputs": [
    {
     "data": {
      "text/html": [
       "<div>\n",
       "<style scoped>\n",
       "    .dataframe tbody tr th:only-of-type {\n",
       "        vertical-align: middle;\n",
       "    }\n",
       "\n",
       "    .dataframe tbody tr th {\n",
       "        vertical-align: top;\n",
       "    }\n",
       "\n",
       "    .dataframe thead th {\n",
       "        text-align: right;\n",
       "    }\n",
       "</style>\n",
       "<table border=\"1\" class=\"dataframe\">\n",
       "  <thead>\n",
       "    <tr style=\"text-align: right;\">\n",
       "      <th></th>\n",
       "      <th>alcohol</th>\n",
       "      <th>malic_acid</th>\n",
       "      <th>ash</th>\n",
       "      <th>alcalinity_of_ash</th>\n",
       "      <th>magnesium</th>\n",
       "      <th>total_phenols</th>\n",
       "      <th>flavanoids</th>\n",
       "      <th>nonflavanoid_phenols</th>\n",
       "      <th>proanthocyanins</th>\n",
       "      <th>color_intensity</th>\n",
       "      <th>hue</th>\n",
       "      <th>od280/od315_of_diluted_wines</th>\n",
       "      <th>proline</th>\n",
       "    </tr>\n",
       "  </thead>\n",
       "  <tbody>\n",
       "    <tr>\n",
       "      <th>0</th>\n",
       "      <td>14.23</td>\n",
       "      <td>1.71</td>\n",
       "      <td>2.43</td>\n",
       "      <td>15.6</td>\n",
       "      <td>127.0</td>\n",
       "      <td>2.80</td>\n",
       "      <td>3.06</td>\n",
       "      <td>0.28</td>\n",
       "      <td>2.29</td>\n",
       "      <td>5.64</td>\n",
       "      <td>1.04</td>\n",
       "      <td>3.92</td>\n",
       "      <td>1065.0</td>\n",
       "    </tr>\n",
       "    <tr>\n",
       "      <th>1</th>\n",
       "      <td>13.20</td>\n",
       "      <td>1.78</td>\n",
       "      <td>2.14</td>\n",
       "      <td>11.2</td>\n",
       "      <td>100.0</td>\n",
       "      <td>2.65</td>\n",
       "      <td>2.76</td>\n",
       "      <td>0.26</td>\n",
       "      <td>1.28</td>\n",
       "      <td>4.38</td>\n",
       "      <td>1.05</td>\n",
       "      <td>3.40</td>\n",
       "      <td>1050.0</td>\n",
       "    </tr>\n",
       "    <tr>\n",
       "      <th>2</th>\n",
       "      <td>13.16</td>\n",
       "      <td>2.36</td>\n",
       "      <td>2.67</td>\n",
       "      <td>18.6</td>\n",
       "      <td>101.0</td>\n",
       "      <td>2.80</td>\n",
       "      <td>3.24</td>\n",
       "      <td>0.30</td>\n",
       "      <td>2.81</td>\n",
       "      <td>5.68</td>\n",
       "      <td>1.03</td>\n",
       "      <td>3.17</td>\n",
       "      <td>1185.0</td>\n",
       "    </tr>\n",
       "    <tr>\n",
       "      <th>3</th>\n",
       "      <td>14.37</td>\n",
       "      <td>1.95</td>\n",
       "      <td>2.50</td>\n",
       "      <td>16.8</td>\n",
       "      <td>113.0</td>\n",
       "      <td>3.85</td>\n",
       "      <td>3.49</td>\n",
       "      <td>0.24</td>\n",
       "      <td>2.18</td>\n",
       "      <td>7.80</td>\n",
       "      <td>0.86</td>\n",
       "      <td>3.45</td>\n",
       "      <td>1480.0</td>\n",
       "    </tr>\n",
       "    <tr>\n",
       "      <th>4</th>\n",
       "      <td>13.24</td>\n",
       "      <td>2.59</td>\n",
       "      <td>2.87</td>\n",
       "      <td>21.0</td>\n",
       "      <td>118.0</td>\n",
       "      <td>2.80</td>\n",
       "      <td>2.69</td>\n",
       "      <td>0.39</td>\n",
       "      <td>1.82</td>\n",
       "      <td>4.32</td>\n",
       "      <td>1.04</td>\n",
       "      <td>2.93</td>\n",
       "      <td>735.0</td>\n",
       "    </tr>\n",
       "  </tbody>\n",
       "</table>\n",
       "</div>"
      ],
      "text/plain": [
       "   alcohol  malic_acid   ash  alcalinity_of_ash  magnesium  total_phenols   \n",
       "0    14.23        1.71  2.43               15.6      127.0           2.80  \\\n",
       "1    13.20        1.78  2.14               11.2      100.0           2.65   \n",
       "2    13.16        2.36  2.67               18.6      101.0           2.80   \n",
       "3    14.37        1.95  2.50               16.8      113.0           3.85   \n",
       "4    13.24        2.59  2.87               21.0      118.0           2.80   \n",
       "\n",
       "   flavanoids  nonflavanoid_phenols  proanthocyanins  color_intensity   hue   \n",
       "0        3.06                  0.28             2.29             5.64  1.04  \\\n",
       "1        2.76                  0.26             1.28             4.38  1.05   \n",
       "2        3.24                  0.30             2.81             5.68  1.03   \n",
       "3        3.49                  0.24             2.18             7.80  0.86   \n",
       "4        2.69                  0.39             1.82             4.32  1.04   \n",
       "\n",
       "   od280/od315_of_diluted_wines  proline  \n",
       "0                          3.92   1065.0  \n",
       "1                          3.40   1050.0  \n",
       "2                          3.17   1185.0  \n",
       "3                          3.45   1480.0  \n",
       "4                          2.93    735.0  "
      ]
     },
     "execution_count": 18,
     "metadata": {},
     "output_type": "execute_result"
    }
   ],
   "source": [
    "wine=datasets.load_wine()\n",
    "wine_df=pd.DataFrame(data=wine.data, columns=wine.feature_names)\n",
    "wine_df.head()"
   ]
  },
  {
   "cell_type": "markdown",
   "id": "d4abd689-28c3-4abb-8465-4035d3fa780c",
   "metadata": {},
   "source": [
    "Voila! We see that the model outputs correct predictions."
   ]
  },
  {
   "cell_type": "code",
   "execution_count": 19,
   "id": "7db7f57e-466a-4202-8498-4ac4e39ff063",
   "metadata": {
    "tags": []
   },
   "outputs": [
    {
     "name": "stdout",
     "output_type": "stream",
     "text": [
      "[[14.23,1.71,2.43,15.6,127.0,2.80,3.06,0.28,2.29,5.64,1.04,3.92,1065.0]]\n"
     ]
    },
    {
     "name": "stderr",
     "output_type": "stream",
     "text": [
      "  % Total    % Received % Xferd  Average Speed   Time    Time     Time  Current\n",
      "                                 Dload  Upload   Total   Spent    Left  Speed\n",
      "  0     0    0     0    0     0      0      0 --:--:-- --:--:-- --:--:--     0\n",
      "curl: (7) Failed to connect to 127.0.0.1 port 5001 after 0 ms: Couldn't connect to server\n"
     ]
    },
    {
     "ename": "CalledProcessError",
     "evalue": "Command 'b'data=\\'[[14.23,1.71,2.43,15.6,127.0,2.80,3.06,0.28,2.29,5.64,1.04,3.92,1065.0]]\\'\\necho $data\\ncurl -d \"{\\\\\"inputs\\\\\": $data}\" -H \\'Content-Type: application/json\\' 127.0.0.1:5001/invocations\\n'' returned non-zero exit status 7.",
     "output_type": "error",
     "traceback": [
      "\u001b[0;31m---------------------------------------------------------------------------\u001b[0m",
      "\u001b[0;31mCalledProcessError\u001b[0m                        Traceback (most recent call last)",
      "Cell \u001b[0;32mIn[19], line 1\u001b[0m\n\u001b[0;32m----> 1\u001b[0m \u001b[43mget_ipython\u001b[49m\u001b[43m(\u001b[49m\u001b[43m)\u001b[49m\u001b[38;5;241;43m.\u001b[39;49m\u001b[43mrun_cell_magic\u001b[49m\u001b[43m(\u001b[49m\u001b[38;5;124;43m'\u001b[39;49m\u001b[38;5;124;43mbash\u001b[39;49m\u001b[38;5;124;43m'\u001b[39;49m\u001b[43m,\u001b[49m\u001b[43m \u001b[49m\u001b[38;5;124;43m'\u001b[39;49m\u001b[38;5;124;43m'\u001b[39;49m\u001b[43m,\u001b[49m\u001b[43m \u001b[49m\u001b[38;5;124;43m'\u001b[39;49m\u001b[38;5;124;43mdata=\u001b[39;49m\u001b[38;5;130;43;01m\\'\u001b[39;49;00m\u001b[38;5;124;43m[[14.23,1.71,2.43,15.6,127.0,2.80,3.06,0.28,2.29,5.64,1.04,3.92,1065.0]]\u001b[39;49m\u001b[38;5;130;43;01m\\'\u001b[39;49;00m\u001b[38;5;130;43;01m\\n\u001b[39;49;00m\u001b[38;5;124;43mecho $data\u001b[39;49m\u001b[38;5;130;43;01m\\n\u001b[39;49;00m\u001b[38;5;124;43mcurl -d \u001b[39;49m\u001b[38;5;124;43m\"\u001b[39;49m\u001b[38;5;124;43m{\u001b[39;49m\u001b[38;5;130;43;01m\\\\\u001b[39;49;00m\u001b[38;5;124;43m\"\u001b[39;49m\u001b[38;5;124;43minputs\u001b[39;49m\u001b[38;5;130;43;01m\\\\\u001b[39;49;00m\u001b[38;5;124;43m\"\u001b[39;49m\u001b[38;5;124;43m: $data}\u001b[39;49m\u001b[38;5;124;43m\"\u001b[39;49m\u001b[38;5;124;43m -H \u001b[39;49m\u001b[38;5;130;43;01m\\'\u001b[39;49;00m\u001b[38;5;124;43mContent-Type: application/json\u001b[39;49m\u001b[38;5;130;43;01m\\'\u001b[39;49;00m\u001b[38;5;124;43m 127.0.0.1:5001/invocations\u001b[39;49m\u001b[38;5;130;43;01m\\n\u001b[39;49;00m\u001b[38;5;124;43m'\u001b[39;49m\u001b[43m)\u001b[49m\n",
      "File \u001b[0;32m~/Desktop/data_engineering_bootcamp_2303/tasks/3_machine_learning_essentials/day_4_mlops/mlops-student/lib/python3.10/site-packages/IPython/core/interactiveshell.py:2478\u001b[0m, in \u001b[0;36mInteractiveShell.run_cell_magic\u001b[0;34m(self, magic_name, line, cell)\u001b[0m\n\u001b[1;32m   2476\u001b[0m \u001b[38;5;28;01mwith\u001b[39;00m \u001b[38;5;28mself\u001b[39m\u001b[38;5;241m.\u001b[39mbuiltin_trap:\n\u001b[1;32m   2477\u001b[0m     args \u001b[38;5;241m=\u001b[39m (magic_arg_s, cell)\n\u001b[0;32m-> 2478\u001b[0m     result \u001b[38;5;241m=\u001b[39m \u001b[43mfn\u001b[49m\u001b[43m(\u001b[49m\u001b[38;5;241;43m*\u001b[39;49m\u001b[43margs\u001b[49m\u001b[43m,\u001b[49m\u001b[43m \u001b[49m\u001b[38;5;241;43m*\u001b[39;49m\u001b[38;5;241;43m*\u001b[39;49m\u001b[43mkwargs\u001b[49m\u001b[43m)\u001b[49m\n\u001b[1;32m   2480\u001b[0m \u001b[38;5;66;03m# The code below prevents the output from being displayed\u001b[39;00m\n\u001b[1;32m   2481\u001b[0m \u001b[38;5;66;03m# when using magics with decodator @output_can_be_silenced\u001b[39;00m\n\u001b[1;32m   2482\u001b[0m \u001b[38;5;66;03m# when the last Python token in the expression is a ';'.\u001b[39;00m\n\u001b[1;32m   2483\u001b[0m \u001b[38;5;28;01mif\u001b[39;00m \u001b[38;5;28mgetattr\u001b[39m(fn, magic\u001b[38;5;241m.\u001b[39mMAGIC_OUTPUT_CAN_BE_SILENCED, \u001b[38;5;28;01mFalse\u001b[39;00m):\n",
      "File \u001b[0;32m~/Desktop/data_engineering_bootcamp_2303/tasks/3_machine_learning_essentials/day_4_mlops/mlops-student/lib/python3.10/site-packages/IPython/core/magics/script.py:154\u001b[0m, in \u001b[0;36mScriptMagics._make_script_magic.<locals>.named_script_magic\u001b[0;34m(line, cell)\u001b[0m\n\u001b[1;32m    152\u001b[0m \u001b[38;5;28;01melse\u001b[39;00m:\n\u001b[1;32m    153\u001b[0m     line \u001b[38;5;241m=\u001b[39m script\n\u001b[0;32m--> 154\u001b[0m \u001b[38;5;28;01mreturn\u001b[39;00m \u001b[38;5;28;43mself\u001b[39;49m\u001b[38;5;241;43m.\u001b[39;49m\u001b[43mshebang\u001b[49m\u001b[43m(\u001b[49m\u001b[43mline\u001b[49m\u001b[43m,\u001b[49m\u001b[43m \u001b[49m\u001b[43mcell\u001b[49m\u001b[43m)\u001b[49m\n",
      "File \u001b[0;32m~/Desktop/data_engineering_bootcamp_2303/tasks/3_machine_learning_essentials/day_4_mlops/mlops-student/lib/python3.10/site-packages/IPython/core/magics/script.py:314\u001b[0m, in \u001b[0;36mScriptMagics.shebang\u001b[0;34m(self, line, cell)\u001b[0m\n\u001b[1;32m    309\u001b[0m \u001b[38;5;28;01mif\u001b[39;00m args\u001b[38;5;241m.\u001b[39mraise_error \u001b[38;5;129;01mand\u001b[39;00m p\u001b[38;5;241m.\u001b[39mreturncode \u001b[38;5;241m!=\u001b[39m \u001b[38;5;241m0\u001b[39m:\n\u001b[1;32m    310\u001b[0m     \u001b[38;5;66;03m# If we get here and p.returncode is still None, we must have\u001b[39;00m\n\u001b[1;32m    311\u001b[0m     \u001b[38;5;66;03m# killed it but not yet seen its return code. We don't wait for it,\u001b[39;00m\n\u001b[1;32m    312\u001b[0m     \u001b[38;5;66;03m# in case it's stuck in uninterruptible sleep. -9 = SIGKILL\u001b[39;00m\n\u001b[1;32m    313\u001b[0m     rc \u001b[38;5;241m=\u001b[39m p\u001b[38;5;241m.\u001b[39mreturncode \u001b[38;5;129;01mor\u001b[39;00m \u001b[38;5;241m-\u001b[39m\u001b[38;5;241m9\u001b[39m\n\u001b[0;32m--> 314\u001b[0m     \u001b[38;5;28;01mraise\u001b[39;00m CalledProcessError(rc, cell)\n",
      "\u001b[0;31mCalledProcessError\u001b[0m: Command 'b'data=\\'[[14.23,1.71,2.43,15.6,127.0,2.80,3.06,0.28,2.29,5.64,1.04,3.92,1065.0]]\\'\\necho $data\\ncurl -d \"{\\\\\"inputs\\\\\": $data}\" -H \\'Content-Type: application/json\\' 127.0.0.1:5001/invocations\\n'' returned non-zero exit status 7."
     ]
    }
   ],
   "source": [
    "%%bash\n",
    "data='[[14.23,1.71,2.43,15.6,127.0,2.80,3.06,0.28,2.29,5.64,1.04,3.92,1065.0]]'\n",
    "echo $data\n",
    "curl -d \"{\\\"inputs\\\": $data}\" -H 'Content-Type: application/json' 127.0.0.1:5001/invocations"
   ]
  },
  {
   "cell_type": "code",
   "execution_count": null,
   "id": "183249d4-0279-445f-b7a1-ccf6a8c2296d",
   "metadata": {
    "tags": []
   },
   "outputs": [],
   "source": [
    "%%bash\n",
    "data='[[13.16,2.36,2.67,18.6,101.0,2.80,3.24,0.30,2.81,5.68,1.03,3.17,1185.0]]'\n",
    "echo $data\n",
    "curl -d \"{\\\"instances\\\": $data}\" -H 'Content-Type: application/json' 127.0.0.1:5001/invocations"
   ]
  },
  {
   "cell_type": "code",
   "execution_count": null,
   "id": "d9518593-9b0b-41df-9cc5-ee592de3fce3",
   "metadata": {},
   "outputs": [],
   "source": []
  }
 ],
 "metadata": {
  "kernelspec": {
   "display_name": "mlops-student",
   "language": "python",
   "name": "mlops-student"
  },
  "language_info": {
   "codemirror_mode": {
    "name": "ipython",
    "version": 3
   },
   "file_extension": ".py",
   "mimetype": "text/x-python",
   "name": "python",
   "nbconvert_exporter": "python",
   "pygments_lexer": "ipython3",
   "version": "3.10.6"
  }
 },
 "nbformat": 4,
 "nbformat_minor": 5
}
