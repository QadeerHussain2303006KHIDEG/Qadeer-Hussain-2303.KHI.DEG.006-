{
 "cells": [
  {
   "cell_type": "markdown",
   "id": "a9e919de-4ad5-4773-a7e5-f71f59136795",
   "metadata": {},
   "source": [
    "### Peer Members\n",
    "### Maaz Javaid Siddique (2303.KHI.DEG.004)\n",
    "### Syed Muhammad Raqim Ali Shah (2303.KHI.DEG.008) \n",
    "### Qadeer Hussain (2303.KHI.DEG.006)"
   ]
  },
  {
   "cell_type": "code",
   "execution_count": 1,
   "id": "c9861757-0863-4c25-a95a-7dd55d6f9375",
   "metadata": {
    "tags": []
   },
   "outputs": [],
   "source": [
    "from pyspark.sql import SparkSession\n",
    "from pyspark.sql.types import IntegerType\n",
    "from pyspark.sql.functions import col,sum,count,mean"
   ]
  },
  {
   "cell_type": "code",
   "execution_count": 2,
   "id": "747cabfa-f1ff-43ac-8f50-524b083ff724",
   "metadata": {
    "tags": []
   },
   "outputs": [
    {
     "name": "stderr",
     "output_type": "stream",
     "text": [
      "23/05/16 08:32:23 WARN Utils: Your hostname, all-MS-7D35 resolves to a loopback address: 127.0.1.1; using 192.168.1.154 instead (on interface enp2s0)\n",
      "23/05/16 08:32:23 WARN Utils: Set SPARK_LOCAL_IP if you need to bind to another address\n",
      "Setting default log level to \"WARN\".\n",
      "To adjust logging level use sc.setLogLevel(newLevel). For SparkR, use setLogLevel(newLevel).\n",
      "23/05/16 08:32:23 WARN NativeCodeLoader: Unable to load native-hadoop library for your platform... using builtin-java classes where applicable\n"
     ]
    }
   ],
   "source": [
    "spark = SparkSession.builder.appName(\"PySpark Assignment\").getOrCreate()"
   ]
  },
  {
   "cell_type": "code",
   "execution_count": 3,
   "id": "fc61944f-f38f-41d0-a75d-5a750be59bdf",
   "metadata": {
    "tags": []
   },
   "outputs": [],
   "source": [
    "transaction_1 = spark.read.csv(\"./store_transactions/transactions_1.csv\", header=True)\n",
    "transaction_2 = spark.read.csv(\"./store_transactions/transactions_2.csv\", header=True)\n",
    "transaction_3 = spark.read.csv(\"./store_transactions/transactions_3.csv\", header=True)\n",
    "customers = spark.read.csv(\"customers.csv\", header=True)\n",
    "products = spark.read.csv(\"products.csv\", header=True)"
   ]
  },
  {
   "cell_type": "markdown",
   "id": "4744ca08-40fe-4284-bb6b-089ce36d1490",
   "metadata": {},
   "source": [
    "# Problem 1\n",
    "### What are the daily total sales for the store with id 1?"
   ]
  },
  {
   "cell_type": "code",
   "execution_count": 4,
   "id": "965912c9-c01c-4bce-b661-c5ade53635c8",
   "metadata": {
    "tags": []
   },
   "outputs": [
    {
     "name": "stdout",
     "output_type": "stream",
     "text": [
      "Total sum of Store Id 1: 41264.000000000015\n"
     ]
    }
   ],
   "source": [
    "store_1_transaction=transaction_1.join(products,transaction_1.ProductId ==  products.ProductId,\"inner\")\n",
    "result_table = store_1_transaction.withColumn(\"TotalPrice\", col(\"Quantity\") * col(\"UnitPrice\"))\n",
    "total_price_sum = result_table.agg(sum(\"TotalPrice\")).collect()[0][0]\n",
    "print(\"Total sum of Store Id 1:\",total_price_sum)"
   ]
  },
  {
   "cell_type": "markdown",
   "id": "d6cebdc2-0631-45ad-adb8-19d3ef449c8a",
   "metadata": {},
   "source": [
    "# Problem 2\n",
    "### What are the mean sales for the store with id 2?"
   ]
  },
  {
   "cell_type": "code",
   "execution_count": 5,
   "id": "858694a1-18bb-4955-a114-8f91862721cf",
   "metadata": {
    "tags": []
   },
   "outputs": [
    {
     "name": "stdout",
     "output_type": "stream",
     "text": [
      "Mean of Store Id 2: 513.4598039215689\n"
     ]
    }
   ],
   "source": [
    "store_2_transaction=transaction_2.join(products,transaction_2.ProductId ==  products.ProductId,\"inner\")\n",
    "result_table = store_2_transaction.withColumn(\"TotalPrice\", col(\"Quantity\") * col(\"UnitPrice\"))\n",
    "mean_product_price = result_table.agg(mean(\"TotalPrice\")).collect()[0][0]\n",
    "print(\"Mean of Store Id 2:\",mean_product_price)"
   ]
  },
  {
   "cell_type": "markdown",
   "id": "72ddfb49-c8f5-4bfa-ada6-3af485b2d5ac",
   "metadata": {},
   "source": [
    "# Problem 3\n",
    "### What is the email of the client who spent the most when summing up purchases from all of the stores?"
   ]
  },
  {
   "cell_type": "code",
   "execution_count": 6,
   "id": "6a2832ff-478b-4306-8389-420f6899fda6",
   "metadata": {
    "tags": []
   },
   "outputs": [
    {
     "name": "stdout",
     "output_type": "stream",
     "text": [
      "Email of the client: dwayne.johnson@gmail.com\n"
     ]
    }
   ],
   "source": [
    "transaction= transaction_1.union(transaction_2).union(transaction_3)\n",
    "transaction_join=transaction.join(customers,transaction.CustomerId==customers.CustomerId).join(products,transaction.ProductId==products.ProductId)\n",
    "transaction_totalSales=transaction_join.withColumn(\"TotalSales\",col(\"Quantity\")*col(\"UnitPrice\"))\n",
    "transaction_group_withEmail=transaction_totalSales.groupBy(\"Email\").agg(sum(\"TotalSales\").alias(\"TotalSales\"))\n",
    "transaction_Email=transaction_group_withEmail.orderBy(col(\"TotalSales\").desc())\n",
    "email = transaction_Email.select(\"Email\").first()[0]\n",
    "print(\"Email of the client:\",email)"
   ]
  },
  {
   "cell_type": "markdown",
   "id": "0475bf11-797c-4686-a0f8-705e2e3a7804",
   "metadata": {},
   "source": [
    "# Problem 4\n",
    "###  Which 5 products are most frequently bought across all stores?"
   ]
  },
  {
   "cell_type": "code",
   "execution_count": 7,
   "id": "270a3b0d-5029-4b69-8bd6-f1c1a1e34360",
   "metadata": {
    "tags": []
   },
   "outputs": [
    {
     "name": "stdout",
     "output_type": "stream",
     "text": [
      "+-------------+-----+\n",
      "|         Name|count|\n",
      "+-------------+-----+\n",
      "| White Shorts|   20|\n",
      "| Black Shorts|    9|\n",
      "| Green jacket|    9|\n",
      "|White t-shirt|    8|\n",
      "|   Red Shorts|    7|\n",
      "+-------------+-----+\n",
      "only showing top 5 rows\n",
      "\n"
     ]
    }
   ],
   "source": [
    "transaction= transaction_1.union(transaction_2).union(transaction_3)\n",
    "transaction_join=transaction.join(products,transaction.ProductId==products.ProductId)\n",
    "transaction_count=transaction_join.groupBy(\"Name\").count()\n",
    "transaction_order=transaction_count.orderBy(col(\"count\").desc())\n",
    "transaction_order.show(5)"
   ]
  }
 ],
 "metadata": {
  "kernelspec": {
   "display_name": "Python 3 (ipykernel)",
   "language": "python",
   "name": "python3"
  },
  "language_info": {
   "codemirror_mode": {
    "name": "ipython",
    "version": 3
   },
   "file_extension": ".py",
   "mimetype": "text/x-python",
   "name": "python",
   "nbconvert_exporter": "python",
   "pygments_lexer": "ipython3",
   "version": "3.10.9"
  }
 },
 "nbformat": 4,
 "nbformat_minor": 5
}
