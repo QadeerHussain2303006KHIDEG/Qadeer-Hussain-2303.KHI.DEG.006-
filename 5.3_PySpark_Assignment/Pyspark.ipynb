{
 "cells": [
  {
   "cell_type": "markdown",
   "id": "2bcfd2df-5ebc-4168-96f9-bca6b0d6aeb4",
   "metadata": {},
   "source": [
    "#### Read data from source to DataFrame in local Spark setup and display DataFrame schema."
   ]
  },
  {
   "cell_type": "code",
   "execution_count": 129,
   "id": "35d39a73-287a-465a-9064-a8a143ac6d65",
   "metadata": {
    "tags": []
   },
   "outputs": [],
   "source": [
    "from pyspark.sql import SparkSession\n",
    "from pyspark.sql.types import *\n",
    "from pyspark.sql.functions import *\n"
   ]
  },
  {
   "cell_type": "code",
   "execution_count": 130,
   "id": "59c34918-500d-4197-b5c5-c6d80d0e237d",
   "metadata": {
    "tags": []
   },
   "outputs": [],
   "source": [
    "# spark = SparkSession.builder.appName(\"PySpark Assignment\").getOrCreate()\n",
    "spark = SparkSession.builder.getOrCreate()\n",
    "\n",
    "titanic = spark.read.option(\"header\", \"true\").option(\"inferSchema\", \"true\").option(\"header\", \"false\").csv(\"data/titanic.csv\")\n",
    "# titanic.printSchema()"
   ]
  },
  {
   "cell_type": "code",
   "execution_count": 131,
   "id": "9ab083c1-28e8-4111-8fe9-0656f7841059",
   "metadata": {
    "tags": []
   },
   "outputs": [
    {
     "name": "stdout",
     "output_type": "stream",
     "text": [
      "+-----------+--------+------+--------------------+------+----+-----+-----+----------------+-------+-----+--------+-------------------+\n",
      "|PassengerId|Survived|Pclass|                Name|   Sex| Age|SibSp|Parch|          Ticket|   Fare|Cabin|Embarked|          Timestamp|\n",
      "+-----------+--------+------+--------------------+------+----+-----+-----+----------------+-------+-----+--------+-------------------+\n",
      "|          1|       0|     3|Braund, Mr. Owen ...|  male|  22|    1|    0|       A/5 21171|   7.25| null|       S|2020-01-01 13:45:25|\n",
      "|          2|       1|     1|Cumings, Mrs. Joh...|female|  38|    1|    0|        PC 17599|71.2833|  C85|       C|2020-01-01 13:44:48|\n",
      "|          3|       1|     3|Heikkinen, Miss. ...|female|  26|    0|    0|STON/O2. 3101282|  7.925| null|       S|2020-01-01 13:38:11|\n",
      "|          4|       1|     1|Futrelle, Mrs. Ja...|female|  35|    1|    0|          113803|   53.1| C123|       S|2020-01-01 13:32:00|\n",
      "|          5|       0|     3|Allen, Mr. Willia...|  male|  35|    0|    0|          373450|   8.05| null|       S|2020-01-01 13:36:30|\n",
      "|          6|       0|     3|    Moran, Mr. James|  male|null|    0|    0|          330877| 8.4583| null|       Q|2020-01-01 13:31:39|\n",
      "|          7|       0|     1|McCarthy, Mr. Tim...|  male|  54|    0|    0|           17463|51.8625|  E46|       S|2020-01-01 13:37:31|\n",
      "|          8|       0|     3|Palsson, Master. ...|  male|   2|    3|    1|          349909| 21.075| null|       S|2020-01-01 13:49:08|\n",
      "|          9|       1|     3|Johnson, Mrs. Osc...|female|  27|    0|    2|          347742|11.1333| null|       S|2020-01-01 13:33:42|\n",
      "|         10|       1|     2|Nasser, Mrs. Nich...|female|  14|    1|    0|          237736|30.0708| null|       C|2020-01-01 13:32:53|\n",
      "|         11|       1|     3|Sandstrom, Miss. ...|female|   4|    1|    1|         PP 9549|   16.7|   G6|       S|2020-01-01 13:32:23|\n",
      "|         12|       1|     1|Bonnell, Miss. El...|female|  58|    0|    0|          113783|  26.55| C103|       S|2020-01-01 13:30:12|\n",
      "|         13|       0|     3|Saundercock, Mr. ...|  male|  20|    0|    0|       A/5. 2151|   8.05| null|       S|2020-01-01 13:33:34|\n",
      "|         14|       0|     3|Andersson, Mr. An...|  male|  39|    1|    5|          347082| 31.275| null|       S|2020-01-01 13:30:20|\n",
      "|         15|       0|     3|Vestrom, Miss. Hu...|female|  14|    0|    0|          350406| 7.8542| null|       S|2020-01-01 13:41:17|\n",
      "|         16|       1|     2|Hewlett, Mrs. (Ma...|female|  55|    0|    0|          248706|   16.0| null|       S|2020-01-01 13:34:22|\n",
      "|         17|       0|     3|Rice, Master. Eugene|  male|   2|    4|    1|          382652| 29.125| null|       Q|2020-01-01 13:41:55|\n",
      "|         18|       1|     2|Williams, Mr. Cha...|  male|null|    0|    0|          244373|   13.0| null|       S|2020-01-01 13:39:35|\n",
      "|         19|       0|     3|Vander Planke, Mr...|female|  31|    1|    0|          345763|   18.0| null|       S|2020-01-01 13:39:38|\n",
      "|         20|       1|     3|Masselmani, Mrs. ...|female|null|    0|    0|            2649|  7.225| null|       C|2020-01-01 13:36:56|\n",
      "+-----------+--------+------+--------------------+------+----+-----+-----+----------------+-------+-----+--------+-------------------+\n",
      "only showing top 20 rows\n",
      "\n",
      "root\n",
      " |-- PassengerId: integer (nullable = true)\n",
      " |-- Survived: integer (nullable = true)\n",
      " |-- Pclass: integer (nullable = true)\n",
      " |-- Name: string (nullable = true)\n",
      " |-- Sex: string (nullable = true)\n",
      " |-- Age: integer (nullable = true)\n",
      " |-- SibSp: integer (nullable = true)\n",
      " |-- Parch: integer (nullable = true)\n",
      " |-- Ticket: string (nullable = true)\n",
      " |-- Fare: double (nullable = true)\n",
      " |-- Cabin: string (nullable = true)\n",
      " |-- Embarked: string (nullable = true)\n",
      " |-- Timestamp: timestamp (nullable = true)\n",
      "\n"
     ]
    }
   ],
   "source": [
    "\n",
    "columns = [\"PassengerId\",\"Survived\",\"Pclass\",\"Name\",\"Sex\",\"Age\",\"SibSp\",\"Parch\",\"Ticket\",\"Fare\",\"Cabin\",\"Embarked\",\"Timestamp\"]\n",
    "titanic = titanic.toDF(*columns)\n",
    "\n",
    "# Option 2: Use withColumnRenamed() method to rename existing columns\n",
    "for i, col_name in enumerate(titanic.columns):\n",
    "    titanic = titanic.withColumnRenamed(col_name, columns[i])\n",
    "titanic.show()\n",
    "titanic.printSchema()"
   ]
  },
  {
   "cell_type": "code",
   "execution_count": 132,
   "id": "584512f8-e45a-448a-9491-1963455df3a4",
   "metadata": {
    "tags": []
   },
   "outputs": [
    {
     "data": {
      "text/plain": [
       "[('PassengerId', 'int'),\n",
       " ('Survived', 'int'),\n",
       " ('Pclass', 'int'),\n",
       " ('Name', 'string'),\n",
       " ('Sex', 'string'),\n",
       " ('Age', 'int'),\n",
       " ('SibSp', 'int'),\n",
       " ('Parch', 'int'),\n",
       " ('Ticket', 'string'),\n",
       " ('Fare', 'double'),\n",
       " ('Cabin', 'string'),\n",
       " ('Embarked', 'string'),\n",
       " ('Timestamp', 'timestamp')]"
      ]
     },
     "execution_count": 132,
     "metadata": {},
     "output_type": "execute_result"
    }
   ],
   "source": [
    "column_types = titanic.dtypes\n",
    "column_types"
   ]
  },
  {
   "cell_type": "markdown",
   "id": "7ae51bde-436b-4f31-b673-818e785d656e",
   "metadata": {},
   "source": [
    "#### For numerical columns, calculate minimum, maximum and average values."
   ]
  },
  {
   "cell_type": "code",
   "execution_count": 133,
   "id": "9a755f62-7ca4-4753-ac98-dc8329386f71",
   "metadata": {
    "tags": []
   },
   "outputs": [
    {
     "name": "stdout",
     "output_type": "stream",
     "text": [
      "+-------+------------------+------------------+------------------+------------------+------------------+-----------------+\n",
      "|summary|       PassengerId|          Survived|            Pclass|               Age|             SibSp|            Parch|\n",
      "+-------+------------------+------------------+------------------+------------------+------------------+-----------------+\n",
      "|    max|               891|               891|               891|                80|               891|              891|\n",
      "|    min|                 1|                 0|0.8360712409770491|                 0|                 0|                0|\n",
      "|   mean|497.27076840304596|178.57408616762064|179.62894264325715|167.64315089562422|180.12515025772694|179.6375301872114|\n",
      "+-------+------------------+------------------+------------------+------------------+------------------+-----------------+\n",
      "\n"
     ]
    }
   ],
   "source": [
    "numerical_columns = [column[0] for column in column_types if column[1] in ['int', 'float']]\n",
    "summary_df = titanic.describe(numerical_columns)\n",
    "summary_df.select(numerical_columns).summary(\"max\",\"min\",\"mean\").show()\n"
   ]
  },
  {
   "cell_type": "markdown",
   "id": "d3c34b42-1733-4e99-90d6-ea587dd1c561",
   "metadata": {},
   "source": [
    "#### For categorical columns, create and apply UDF that will change the last letter of every word to “1”."
   ]
  },
  {
   "cell_type": "code",
   "execution_count": 134,
   "id": "abfcdb60-d106-4c41-bc75-fa060bb483a3",
   "metadata": {
    "tags": []
   },
   "outputs": [
    {
     "name": "stdout",
     "output_type": "stream",
     "text": [
      "+-----------+--------+------+--------------------+------+----+-----+-----+----------------+-------+-----+--------+-------------------+\n",
      "|PassengerId|Survived|Pclass|                Name|   Sex| Age|SibSp|Parch|          Ticket|   Fare|Cabin|Embarked|          Timestamp|\n",
      "+-----------+--------+------+--------------------+------+----+-----+-----+----------------+-------+-----+--------+-------------------+\n",
      "|          1|       0|     3|Braund, Mr. Owen ...|  mal1|  22|    1|    0|       A/5 21171|   7.25| null|       1|2020-01-01 13:45:25|\n",
      "|          2|       1|     1|Cumings, Mrs. Joh...|femal1|  38|    1|    0|        PC 17599|71.2833|  C81|       1|2020-01-01 13:44:48|\n",
      "|          3|       1|     3|Heikkinen, Miss. ...|femal1|  26|    0|    0|STON/O2. 3101282|  7.925| null|       1|2020-01-01 13:38:11|\n",
      "|          4|       1|     1|Futrelle, Mrs. Ja...|femal1|  35|    1|    0|          113803|   53.1| C121|       1|2020-01-01 13:32:00|\n",
      "|          5|       0|     3|Allen, Mr. Willia...|  mal1|  35|    0|    0|          373450|   8.05| null|       1|2020-01-01 13:36:30|\n",
      "|          6|       0|     3|    Moran, Mr. James|  mal1|null|    0|    0|          330877| 8.4583| null|       1|2020-01-01 13:31:39|\n",
      "|          7|       0|     1|McCarthy, Mr. Tim...|  mal1|  54|    0|    0|           17463|51.8625|  E41|       1|2020-01-01 13:37:31|\n",
      "|          8|       0|     3|Palsson, Master. ...|  mal1|   2|    3|    1|          349909| 21.075| null|       1|2020-01-01 13:49:08|\n",
      "|          9|       1|     3|Johnson, Mrs. Osc...|femal1|  27|    0|    2|          347742|11.1333| null|       1|2020-01-01 13:33:42|\n",
      "|         10|       1|     2|Nasser, Mrs. Nich...|femal1|  14|    1|    0|          237736|30.0708| null|       1|2020-01-01 13:32:53|\n",
      "|         11|       1|     3|Sandstrom, Miss. ...|femal1|   4|    1|    1|         PP 9549|   16.7|   G1|       1|2020-01-01 13:32:23|\n",
      "|         12|       1|     1|Bonnell, Miss. El...|femal1|  58|    0|    0|          113783|  26.55| C101|       1|2020-01-01 13:30:12|\n",
      "|         13|       0|     3|Saundercock, Mr. ...|  mal1|  20|    0|    0|       A/5. 2151|   8.05| null|       1|2020-01-01 13:33:34|\n",
      "|         14|       0|     3|Andersson, Mr. An...|  mal1|  39|    1|    5|          347082| 31.275| null|       1|2020-01-01 13:30:20|\n",
      "|         15|       0|     3|Vestrom, Miss. Hu...|femal1|  14|    0|    0|          350406| 7.8542| null|       1|2020-01-01 13:41:17|\n",
      "|         16|       1|     2|Hewlett, Mrs. (Ma...|femal1|  55|    0|    0|          248706|   16.0| null|       1|2020-01-01 13:34:22|\n",
      "|         17|       0|     3|Rice, Master. Eugene|  mal1|   2|    4|    1|          382652| 29.125| null|       1|2020-01-01 13:41:55|\n",
      "|         18|       1|     2|Williams, Mr. Cha...|  mal1|null|    0|    0|          244373|   13.0| null|       1|2020-01-01 13:39:35|\n",
      "|         19|       0|     3|Vander Planke, Mr...|femal1|  31|    1|    0|          345763|   18.0| null|       1|2020-01-01 13:39:38|\n",
      "|         20|       1|     3|Masselmani, Mrs. ...|femal1|null|    0|    0|            2649|  7.225| null|       1|2020-01-01 13:36:56|\n",
      "+-----------+--------+------+--------------------+------+----+-----+-----+----------------+-------+-----+--------+-------------------+\n",
      "only showing top 20 rows\n",
      "\n"
     ]
    }
   ],
   "source": [
    "str_columns = [\"Sex\",\"Cabin\",\"Embarked\"]\n",
    "def change_last_letter_after_space(word):\n",
    "    if word is not None:\n",
    "        words = word.split()\n",
    "        for i in range(len(words)):\n",
    "            words[i] = words[i][:-1] + \"1\"\n",
    "        return \" \".join(words)\n",
    "    return word\n",
    "\n",
    "change_last_letter_udf = udf(change_last_letter_after_space, StringType())\n",
    "\n",
    "\n",
    "for column in str_columns:\n",
    "    titanic = titanic.withColumn(column, change_last_letter_udf(titanic[column]))\n",
    "\n",
    "titanic.show()\n"
   ]
  },
  {
   "cell_type": "markdown",
   "id": "63541f35-b751-4f26-849e-686316303a33",
   "metadata": {},
   "source": [
    "#### Sort DataFrame by the first column and save the results to the Parquet file."
   ]
  },
  {
   "cell_type": "code",
   "execution_count": 135,
   "id": "136b264e-814c-4d95-ad22-7fd4faf47699",
   "metadata": {
    "tags": []
   },
   "outputs": [],
   "source": [
    "\n",
    "sorted_df = titanic.orderBy(col(titanic.columns[0]))\n",
    "sorted_df.write.mode(\"overwrite\").parquet(\"output/titanic_data.parquet\")"
   ]
  },
  {
   "cell_type": "code",
   "execution_count": 125,
   "id": "05990039-7213-47be-bc89-8e6fe58a0003",
   "metadata": {
    "tags": []
   },
   "outputs": [],
   "source": []
  },
  {
   "cell_type": "code",
   "execution_count": null,
   "id": "337dc0dc-c6f4-48b6-ba21-5855d39091bf",
   "metadata": {},
   "outputs": [],
   "source": []
  }
 ],
 "metadata": {
  "kernelspec": {
   "display_name": "Python 3 (ipykernel)",
   "language": "python",
   "name": "python3"
  },
  "language_info": {
   "codemirror_mode": {
    "name": "ipython",
    "version": 3
   },
   "file_extension": ".py",
   "mimetype": "text/x-python",
   "name": "python",
   "nbconvert_exporter": "python",
   "pygments_lexer": "ipython3",
   "version": "3.10.11"
  }
 },
 "nbformat": 4,
 "nbformat_minor": 5
}
